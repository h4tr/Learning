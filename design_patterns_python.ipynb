{
 "cells": [
  {
   "cell_type": "code",
   "execution_count": 1,
   "metadata": {},
   "outputs": [],
   "source": [
    "# Builder pattern\n",
    "# Director --> (Abstract) Builder --> Actual Builder --> Object class"
   ]
  },
  {
   "cell_type": "code",
   "execution_count": 2,
   "metadata": {},
   "outputs": [],
   "source": [
    "class Director():\n",
    "    \"\"\"Director\"\"\"\n",
    "    def __init__(self, builder):\n",
    "        self._builder = builder \n",
    "        \n",
    "    def construct_car(self):\n",
    "        self._builder.create_new_car()\n",
    "        self._builder.add_model()\n",
    "        self._builder.add_tires()\n",
    "        self._builder.add_engine()\n",
    "        \n",
    "\n",
    "    def get_car(self):\n",
    "        return self._builder.car\n",
    "        \n",
    "        \n",
    "class Builder():\n",
    "    \"\"\"Abstract Builder\"\"\"\n",
    "    def __init__(self):\n",
    "        self.car = None \n",
    "        \n",
    "    def create_new_car(self):\n",
    "        self.car = Car()\n",
    "        \n",
    "\n",
    "class SkyLarkBuilder(Builder):\n",
    "    \"\"\"Concrete Builder --> provides parts and tools to work on the parts \"\"\"\n",
    "    \n",
    "    def add_model(self):\n",
    "        self.car.model = \"Skylark\"\n",
    "\n",
    "    def add_tires(self):\n",
    "        self.car.tires = \"Regular tires\"\n",
    "    \n",
    "    def add_engine(self):\n",
    "        self.car.engine = 'V8'\n",
    "\n",
    "\n",
    "class Car():\n",
    "    \"\"\"Product\"\"\"\n",
    "    def __init__(self):\n",
    "        self.model = None\n",
    "        self.tires = None\n",
    "        self.engine = None\n",
    "        \n",
    "    def __str__(self):\n",
    "        return '{} | {} | {}'.format(self.model, self.tires, self.engine)\n",
    "\n",
    "\n"
   ]
  },
  {
   "cell_type": "code",
   "execution_count": 3,
   "metadata": {},
   "outputs": [],
   "source": [
    "builder = SkyLarkBuilder()\n",
    "director = Director(builder)"
   ]
  },
  {
   "cell_type": "code",
   "execution_count": 4,
   "metadata": {},
   "outputs": [],
   "source": [
    "director.construct_car()"
   ]
  },
  {
   "cell_type": "code",
   "execution_count": 5,
   "metadata": {},
   "outputs": [],
   "source": [
    "car = director.get_car()"
   ]
  },
  {
   "cell_type": "code",
   "execution_count": 7,
   "metadata": {},
   "outputs": [
    {
     "name": "stdout",
     "output_type": "stream",
     "text": [
      "Skylark | Regular tires | V8\n"
     ]
    }
   ],
   "source": [
    "print(car)"
   ]
  },
  {
   "cell_type": "code",
   "execution_count": 8,
   "metadata": {},
   "outputs": [
    {
     "data": {
      "text/plain": [
       "'\\nWell done! You reached the expected result.\\nYour code returned: student | 123 | middle\\n'"
      ]
     },
     "execution_count": 8,
     "metadata": {},
     "output_type": "execute_result"
    }
   ],
   "source": [
    "# Python code​​​​​​‌‌​​‌​‌‌​​​‌‌‌​‌​‌​‌​​​​​ below\n",
    "# Use print(\"messages...\") to debug your solution.\n",
    "\n",
    "show_expected_result = False\n",
    "show_hints = False\n",
    "\n",
    "class Director():\n",
    "    \"\"\"Director\"\"\"\n",
    "    def __init__(self, builder):\n",
    "        self._builder = builder \n",
    "        \n",
    "    def construct_account(self):\n",
    "        self._builder.create_new_account()\n",
    "        self._builder.add_type()\n",
    "        self._builder.add_id()\n",
    "        self._builder.add_clearance()\n",
    "        \n",
    "    def get_account(self):\n",
    "        return self._builder.account\n",
    "\n",
    "class Builder():\n",
    "    \"\"\"Abstract Builder\"\"\"\n",
    "    def __init__(self):\n",
    "        self.account = None \n",
    "        \n",
    "    def create_new_account(self):\n",
    "        self.account = Account()\n",
    "\n",
    "class StudentAccountBuilder(Builder):\n",
    "    \"\"\"Concrete Builder --> builds parts and assembles them \"\"\"\n",
    "    \n",
    "    def add_type(self):\n",
    "        self.account.type = \"student\"\n",
    "\n",
    "    def add_id(self):\n",
    "        self.account.id = \"123\"\n",
    "\n",
    "    def add_clearance(self):\n",
    "        self.account.clearance = \"middle\"\n",
    "\n",
    "class Account():\n",
    "    \"\"\"Product\"\"\"\n",
    "    def __init__(self, type, id, clearance):\n",
    "        self.type = type\n",
    "        self.id = id\n",
    "        self.clearance = clearance\n",
    "\n",
    "    def __init__(self):\n",
    "        self.type = None\n",
    "        self.id = None\n",
    "        self.clearance = None\n",
    "        \n",
    "    def __eq__(self, other):\n",
    "        return (self.type, self.id) == (other.type, other.id)\n",
    "\n",
    "    def __str__(self):\n",
    "        return '{} | {} | {}'.format(self.type, self.id, self.clearance)\n",
    "\n",
    "def create_account(director):\n",
    "    builder = StudentAccountBuilder()\n",
    "    director = Director(builder)\n",
    "    director.construct_account()\n",
    "    account = director.get_account()\n",
    "    return print(account)\n",
    "\n",
    "\n",
    "\"\"\"\n",
    "Well done! You reached the expected result.\n",
    "Your code returned: student | 123 | middle\n",
    "\"\"\""
   ]
  },
  {
   "cell_type": "code",
   "execution_count": null,
   "metadata": {},
   "outputs": [],
   "source": []
  }
 ],
 "metadata": {
  "kernelspec": {
   "display_name": "Python 3",
   "language": "python",
   "name": "python3"
  },
  "language_info": {
   "codemirror_mode": {
    "name": "ipython",
    "version": 3
   },
   "file_extension": ".py",
   "mimetype": "text/x-python",
   "name": "python",
   "nbconvert_exporter": "python",
   "pygments_lexer": "ipython3",
   "version": "3.11.0"
  }
 },
 "nbformat": 4,
 "nbformat_minor": 2
}
